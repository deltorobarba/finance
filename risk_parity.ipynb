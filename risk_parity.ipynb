{
  "nbformat": 4,
  "nbformat_minor": 0,
  "metadata": {
    "colab": {
      "provenance": [],
      "authorship_tag": "ABX9TyP07wsI1KDjiybdrWf5rv1M",
      "include_colab_link": true
    },
    "kernelspec": {
      "name": "python3",
      "display_name": "Python 3"
    },
    "language_info": {
      "name": "python"
    }
  },
  "cells": [
    {
      "cell_type": "markdown",
      "metadata": {
        "id": "view-in-github",
        "colab_type": "text"
      },
      "source": [
        "<a href=\"https://colab.research.google.com/github/deltorobarba/finance/blob/main/risk_parity.ipynb\" target=\"_parent\"><img src=\"https://colab.research.google.com/assets/colab-badge.svg\" alt=\"Open In Colab\"/></a>"
      ]
    },
    {
      "cell_type": "markdown",
      "source": [
        "# **Risk Parity**"
      ],
      "metadata": {
        "id": "zU_w4sDp5D7j"
      }
    },
    {
      "cell_type": "markdown",
      "source": [
        "> Allocates assets to equalize risk contributions, focusing on diversification through volatility management"
      ],
      "metadata": {
        "id": "9vkPd9rx5In3"
      }
    },
    {
      "cell_type": "code",
      "execution_count": null,
      "metadata": {
        "id": "GkfTGV_Z5Bf3"
      },
      "outputs": [],
      "source": []
    }
  ]
}