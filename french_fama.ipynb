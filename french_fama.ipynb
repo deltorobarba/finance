{
  "nbformat": 4,
  "nbformat_minor": 0,
  "metadata": {
    "colab": {
      "provenance": [],
      "authorship_tag": "ABX9TyM5mgLGZ7HVqQfJAc20LoBX",
      "include_colab_link": true
    },
    "kernelspec": {
      "name": "python3",
      "display_name": "Python 3"
    },
    "language_info": {
      "name": "python"
    }
  },
  "cells": [
    {
      "cell_type": "markdown",
      "metadata": {
        "id": "view-in-github",
        "colab_type": "text"
      },
      "source": [
        "<a href=\"https://colab.research.google.com/github/deltorobarba/finance/blob/main/french_fama.ipynb\" target=\"_parent\"><img src=\"https://colab.research.google.com/assets/colab-badge.svg\" alt=\"Open In Colab\"/></a>"
      ]
    },
    {
      "cell_type": "markdown",
      "source": [
        "# **Factor Models (e.g., Fama-French)**"
      ],
      "metadata": {
        "id": "XfETod-25P9K"
      }
    },
    {
      "cell_type": "markdown",
      "source": [
        "Optimizes portfolios by incorporating multiple risk factors, allowing for more detailed risk-return analysis."
      ],
      "metadata": {
        "id": "jOx0SCiw5SWg"
      }
    },
    {
      "cell_type": "code",
      "execution_count": null,
      "metadata": {
        "id": "f99FVEyg5OV_"
      },
      "outputs": [],
      "source": []
    }
  ]
}