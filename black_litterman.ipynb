{
  "nbformat": 4,
  "nbformat_minor": 0,
  "metadata": {
    "colab": {
      "provenance": [],
      "authorship_tag": "ABX9TyO6mOSK0Bq5KZlHni3d6yZA",
      "include_colab_link": true
    },
    "kernelspec": {
      "name": "python3",
      "display_name": "Python 3"
    },
    "language_info": {
      "name": "python"
    }
  },
  "cells": [
    {
      "cell_type": "markdown",
      "metadata": {
        "id": "view-in-github",
        "colab_type": "text"
      },
      "source": [
        "<a href=\"https://colab.research.google.com/github/deltorobarba/finance/blob/main/black_litterman.ipynb\" target=\"_parent\"><img src=\"https://colab.research.google.com/assets/colab-badge.svg\" alt=\"Open In Colab\"/></a>"
      ]
    },
    {
      "cell_type": "markdown",
      "source": [
        "# **Black Litterman Model**"
      ],
      "metadata": {
        "id": "femH9g3L42YX"
      }
    },
    {
      "cell_type": "markdown",
      "source": [
        "> Adjusts asset weights based on investor views and equilibrium returns for more stable portfolio optimization.\n",
        "\n",
        "The Black-Litterman Model is often used for portfolio optimization, where it combines the market equilibrium returns (from CAPM) with investor's subjective views."
      ],
      "metadata": {
        "id": "RuILblc-48l9"
      }
    },
    {
      "cell_type": "code",
      "execution_count": 1,
      "metadata": {
        "id": "x8SSE5hM41Y-",
        "colab": {
          "base_uri": "https://localhost:8080/"
        },
        "outputId": "7d26284b-5e6c-4b54-c6a5-d2224b455d54"
      },
      "outputs": [
        {
          "output_type": "stream",
          "name": "stdout",
          "text": [
            "\u001b[?25l   \u001b[90m━━━━━━━━━━━━━━━━━━━━━━━━━━━━━━━━━━━━━━━━\u001b[0m \u001b[32m0.0/61.9 kB\u001b[0m \u001b[31m?\u001b[0m eta \u001b[36m-:--:--\u001b[0m\r\u001b[2K   \u001b[90m━━━━━━━━━━━━━━━━━━━━━━━━━━━━━━━━━━━━━━━━\u001b[0m \u001b[32m61.9/61.9 kB\u001b[0m \u001b[31m1.8 MB/s\u001b[0m eta \u001b[36m0:00:00\u001b[0m\n",
            "\u001b[?25h"
          ]
        }
      ],
      "source": [
        "!pip install yfinance PyPortfolioOpt -q"
      ]
    },
    {
      "cell_type": "code",
      "source": [
        "import numpy as np\n",
        "import pandas as pd\n",
        "import yfinance as yf\n",
        "import matplotlib.pyplot as plt\n",
        "from pypfopt.black_litterman import BlackLittermanModel, market_implied_risk_aversion\n",
        "from pypfopt.efficient_frontier import EfficientFrontier\n",
        "from pypfopt import risk_models, expected_returns\n",
        "\n",
        "# Step 1: Download historical price data\n",
        "tickers = [\"AAPL\", \"MSFT\", \"GOOG\", \"AMZN\", \"TSLA\"]\n",
        "data = yf.download(tickers, start=\"2020-01-01\", end=\"2023-01-01\")['Adj Close']\n",
        "\n",
        "# Step 2: Calculate the expected returns and the covariance matrix using historical data\n",
        "mu = expected_returns.mean_historical_return(data)\n",
        "S = risk_models.sample_cov(data)\n",
        "\n",
        "# Step 3: Get the market cap weights (for equilibrium market returns)\n",
        "market_caps = {\n",
        "    \"AAPL\": 2.41e12,  # Example market caps in USD\n",
        "    \"MSFT\": 2.15e12,\n",
        "    \"GOOG\": 1.78e12,\n",
        "    \"AMZN\": 1.55e12,\n",
        "    \"TSLA\": 0.9e12\n",
        "}\n",
        "market_weights = np.array([market_caps[ticker] for ticker in tickers])\n",
        "market_weights /= market_weights.sum()\n",
        "\n",
        "# Step 4: Calculate the market risk aversion (lambda) parameter\n",
        "delta = market_implied_risk_aversion(data)\n",
        "\n",
        "# Step 5: Formulate your views (P matrix) and confidence (Q vector)\n",
        "# Example views:\n",
        "# View 1: You believe AAPL will outperform the market by 2%\n",
        "# View 2: You believe TSLA will underperform the market by 1%\n",
        "P = np.array([\n",
        "    [1, 0, 0, 0, 0],  # AAPL outperform market\n",
        "    [0, 0, 0, 0, -1]  # TSLA underperform market\n",
        "])\n",
        "Q = np.array([0.02, -0.01])\n",
        "\n",
        "# Step 6: Implement the Black-Litterman Model\n",
        "bl = BlackLittermanModel(S, pi=market_weights, P=P, Q=Q, omega=\"idzorek\", view_confidences=[0.5, 0.6])\n",
        "bl_return = bl.bl_returns()\n",
        "\n",
        "# Step 7: Optimize the portfolio with the new returns\n",
        "ef = EfficientFrontier(bl_return, S)\n",
        "weights = ef.max_sharpe()\n",
        "\n",
        "# Step 8: Show the weights and plot the portfolio performance\n",
        "cleaned_weights = ef.clean_weights()\n",
        "print(\"Optimized Portfolio Weights:\\n\", cleaned_weights)\n",
        "\n",
        "# Plotting the portfolio performance (optional)\n",
        "ef.portfolio_performance(verbose=True)\n",
        "\n",
        "# Step 9: Visualize the portfolio allocation\n",
        "pd.Series(cleaned_weights).plot(kind=\"barh\", title=\"Black-Litterman Optimized Portfolio\", figsize=(10,6))\n",
        "plt.show()"
      ],
      "metadata": {
        "colab": {
          "base_uri": "https://localhost:8080/",
          "height": 647
        },
        "id": "N3cLw4oO_lRM",
        "outputId": "b0d0834e-78b9-47bb-a05e-88f1c6e73761"
      },
      "execution_count": 2,
      "outputs": [
        {
          "output_type": "stream",
          "name": "stderr",
          "text": [
            "[*********************100%***********************]  5 of 5 completed\n"
          ]
        },
        {
          "output_type": "stream",
          "name": "stdout",
          "text": [
            "Optimized Portfolio Weights:\n",
            " OrderedDict([('AAPL', 0.50078), ('AMZN', 0.49922), ('GOOG', 0.0), ('MSFT', 0.0), ('TSLA', 0.0)])\n",
            "Expected annual return: 15.5%\n",
            "Annual volatility: 34.7%\n",
            "Sharpe Ratio: 0.39\n"
          ]
        },
        {
          "output_type": "display_data",
          "data": {
            "text/plain": [
              "<Figure size 1000x600 with 1 Axes>"
            ],
            "image/png": "[encoded data removed]"
          },
          "metadata": {}
        }
      ]
    },
    {
      "cell_type": "markdown",
      "source": [
        "1. **Download historical data**: We're using `yfinance` to download the adjusted closing prices for a sample set of stocks.\n",
        "   \n",
        "2. **Calculate returns and covariance**: We calculate the expected returns using historical mean returns and compute the covariance matrix using the sample covariance.\n",
        "\n",
        "3. **Market equilibrium weights**: The market capitalization of each stock is used to calculate the equilibrium market weights. These represent the neutral \"market view.\"\n",
        "\n",
        "4. **Market risk aversion**: This parameter is necessary for the Black-Litterman model, and it's estimated from historical data.\n",
        "\n",
        "5. **Investor views (P and Q)**: Here, we define views on two assets—AAPL will outperform the market by 2%, and TSLA will underperform by 1%. These views are expressed using the matrix `P` and the vector `Q`.\n",
        "\n",
        "6. **Black-Litterman returns**: We use the `BlackLittermanModel` to compute the posterior expected returns, combining market equilibrium and investor views.\n",
        "\n",
        "7. **Portfolio optimization**: The Efficient Frontier is optimized using the Black-Litterman expected returns, with the goal of maximizing the Sharpe ratio.\n",
        "\n",
        "8. **Visualization**: We visualize the optimized portfolio allocation."
      ],
      "metadata": {
        "id": "5DUHM8gp_oUL"
      }
    }
  ]
}