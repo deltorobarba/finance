{
  "nbformat": 4,
  "nbformat_minor": 0,
  "metadata": {
    "colab": {
      "provenance": [],
      "authorship_tag": "ABX9TyOrcqkLL7ItKtpSVdj1ZhhO",
      "include_colab_link": true
    },
    "kernelspec": {
      "name": "python3",
      "display_name": "Python 3"
    },
    "language_info": {
      "name": "python"
    }
  },
  "cells": [
    {
      "cell_type": "markdown",
      "metadata": {
        "id": "view-in-github",
        "colab_type": "text"
      },
      "source": [
        "<a href=\"https://colab.research.google.com/github/deltorobarba/finance/blob/main/robust_optimization.ipynb\" target=\"_parent\"><img src=\"https://colab.research.google.com/assets/colab-badge.svg\" alt=\"Open In Colab\"/></a>"
      ]
    },
    {
      "cell_type": "markdown",
      "source": [
        "# **Robust Optimization**"
      ],
      "metadata": {
        "id": "gGA2LjFj5YEu"
      }
    },
    {
      "cell_type": "markdown",
      "source": [
        "> Accounts for uncertainty in return, volatility, and correlation estimates, optimizing for worst-case scenarios\n",
        "\n",
        "The robust optimization approach assumes uncertainty in the estimates of the returns, aiming to generate a portfolio that performs well even under adverse conditions.\n",
        "\n",
        "We will use the cvxpy library, which is well-suited for convex optimization problems like portfolio optimization with uncertainty."
      ],
      "metadata": {
        "id": "1OfFC-TH5dSA"
      }
    },
    {
      "cell_type": "code",
      "execution_count": 1,
      "metadata": {
        "id": "7UMjNA_O5XkL"
      },
      "outputs": [],
      "source": [
        "!pip install cvxpy -q"
      ]
    },
    {
      "cell_type": "code",
      "source": [
        "import numpy as np\n",
        "import cvxpy as cp\n",
        "\n",
        "# Define problem data\n",
        "np.random.seed(42)\n",
        "n_assets = 5\n",
        "expected_returns = np.array([0.12, 0.10, 0.08, 0.07, 0.05])  # Example expected returns\n",
        "cov_matrix = np.array([\n",
        "    [0.005, -0.002, 0.001, 0.001, 0.0],\n",
        "    [-0.002, 0.004, -0.001, 0.0, 0.001],\n",
        "    [0.001, -0.001, 0.003, 0.001, -0.001],\n",
        "    [0.001, 0.0, 0.001, 0.004, 0.0],\n",
        "    [0.0, 0.001, -0.001, 0.0, 0.002]\n",
        "])  # Covariance matrix of the assets\n",
        "\n",
        "# Uncertainty set size (this controls the level of robustness)\n",
        "uncertainty_radius = 0.05  # Larger values mean more robustness\n",
        "\n",
        "# Define optimization variables\n",
        "weights = cp.Variable(n_assets)\n",
        "aux_var = cp.Variable()  # Auxiliary variable to model the worst-case scenario\n",
        "\n",
        "# Objective: Maximize worst-case returns\n",
        "portfolio_return = expected_returns @ weights\n",
        "portfolio_risk = cp.quad_form(weights, cov_matrix)  # Portfolio variance (risk)\n",
        "\n",
        "# Constraints\n",
        "constraints = [\n",
        "    cp.norm(weights) <= aux_var,  # Auxiliary constraint for robustness\n",
        "    cp.sum(weights) == 1,  # Weights sum to 1\n",
        "    weights >= 0  # No short-selling\n",
        "]\n",
        "\n",
        "# Objective function: maximize the worst-case return, subject to risk penalty\n",
        "risk_aversion = 0.1  # Adjust this to control risk tolerance\n",
        "objective = cp.Maximize(portfolio_return - risk_aversion * portfolio_risk - uncertainty_radius * aux_var)\n",
        "\n",
        "# Define the problem\n",
        "problem = cp.Problem(objective, constraints)\n",
        "\n",
        "# Solve the problem\n",
        "problem.solve()\n",
        "\n",
        "# Display the results\n",
        "print(\"Optimal portfolio weights:\")\n",
        "print(weights.value)\n",
        "print(\"Optimal expected return (robust):\", portfolio_return.value)\n",
        "print(\"Portfolio risk:\", portfolio_risk.value)"
      ],
      "metadata": {
        "colab": {
          "base_uri": "https://localhost:8080/"
        },
        "id": "SjR_prL-CmI0",
        "outputId": "ce2fa5ec-5043-4630-a445-1ba819704be5"
      },
      "execution_count": 3,
      "outputs": [
        {
          "output_type": "stream",
          "name": "stdout",
          "text": [
            "Optimal portfolio weights:\n",
            "[6.08090588e-01 3.35871195e-01 5.60381980e-02 1.74030711e-08\n",
            " 1.54349922e-09]\n",
            "Optimal expected return (robust): 0.11104104719150257\n",
            "Portfolio risk: 0.0015230784341580597\n"
          ]
        }
      ]
    },
    {
      "cell_type": "markdown",
      "source": [
        "Key Elements:\n",
        "* **Auxiliary Variable (aux_var)**: We introduced this variable to handle the uncertainty in the optimization problem indirectly. This avoids breaking DCP rules.\n",
        "* **Objective**: The term uncertainty_radius * aux_var models the worst-case effect of uncertainty, penalizing the portfolio based on the robustness requirement.\n",
        "- **Robust Optimization**: Modeled using the `delta` variable, which represents the uncertainty in the expected returns. We enforce that the uncertainty in returns lies within a ball of a given radius (`uncertainty_radius`).\n",
        "- **Objective**: Maximize the worst-case return considering this uncertainty, penalized by the portfolio's risk.\n",
        "- **Constraints**:\n",
        "  - Sum of portfolio weights equals 1.\n",
        "  - Non-negative weights (no short-selling).\n",
        "  - The uncertainty in returns (represented by `delta`) is bounded by the `uncertainty_radius`.\n",
        "\n",
        "Adjustable Parameters:\n",
        "- `uncertainty_radius`: Controls how robust the portfolio is to uncertainties in the expected returns. Larger values mean more conservative (robust) portfolios.\n",
        "- `risk_aversion`: Balances between maximizing return and minimizing risk.\n",
        "\n",
        "These parameters can be adjusted to observe how the portfolio shifts under different levels of uncertainty and risk tolerance."
      ],
      "metadata": {
        "id": "Y2B2i0uBCw6o"
      }
    },
    {
      "cell_type": "markdown",
      "source": [
        "The covariance matrix used in the example is the matrix that defines the risk (volatility) of the assets in the portfolio. This matrix is essential for portfolio optimization since it helps calculate the overall portfolio variance based on the individual asset risks and how they interact (correlate) with each other.\n",
        "\n",
        "* The diagonal elements represent the variance of each asset. For example, asset 1 has a variance of 0.005, and asset 5 has a variance of 0.002.\n",
        "* The off-diagonal elements represent the covariance between pairs of assets. For example, the covariance between asset 1 and asset 2 is -0.002, indicating that they are negatively correlated.\n",
        "* A positive covariance means that two assets tend to move in the same direction, while a negative covariance means they tend to move in opposite directions.\n",
        "\n",
        "In this case, the covariance matrix encodes how each asset in the portfolio correlates with the others, which affects the overall portfolio risk. Covariance matrices are fundamental in determining the diversification benefits (or lack thereof) when selecting portfolio weights."
      ],
      "metadata": {
        "id": "peNKRg4wDLyg"
      }
    },
    {
      "cell_type": "code",
      "source": [
        "import numpy as np\n",
        "import pandas as pd\n",
        "\n",
        "# Example covariance matrix (from the earlier example)\n",
        "cov_matrix = np.array([\n",
        "    [0.005, -0.002, 0.001, 0.001, 0.0],\n",
        "    [-0.002, 0.004, -0.001, 0.0, 0.001],\n",
        "    [0.001, -0.001, 0.003, 0.001, -0.001],\n",
        "    [0.001, 0.0, 0.001, 0.004, 0.0],\n",
        "    [0.0, 0.001, -0.001, 0.0, 0.002]\n",
        "])\n",
        "\n",
        "# Asset names for better readability\n",
        "assets = ['Asset 1', 'Asset 2', 'Asset 3', 'Asset 4', 'Asset 5']\n",
        "\n",
        "# Create a DataFrame for better display\n",
        "cov_matrix_df = pd.DataFrame(cov_matrix, index=assets, columns=assets)\n",
        "\n",
        "# Display the covariance matrix\n",
        "import ace_tools as tools; tools.display_dataframe_to_user(name=\"Covariance Matrix\", dataframe=cov_matrix_df)\n"
      ],
      "metadata": {
        "colab": {
          "base_uri": "https://localhost:8080/",
          "height": 344
        },
        "id": "HirGU8ILDdfI",
        "outputId": "b0a2189d-58da-443c-d8cf-41b4296ecad3"
      },
      "execution_count": 4,
      "outputs": [
        {
          "output_type": "error",
          "ename": "ModuleNotFoundError",
          "evalue": "No module named 'ace_tools'",
          "traceback": [
            "\u001b[0;31m---------------------------------------------------------------------------\u001b[0m",
            "\u001b[0;31mModuleNotFoundError\u001b[0m                       Traceback (most recent call last)",
            "\u001b[0;32m<ipython-input-4-0d0366970208>\u001b[0m in \u001b[0;36m<cell line: 20>\u001b[0;34m()\u001b[0m\n\u001b[1;32m     18\u001b[0m \u001b[0;34m\u001b[0m\u001b[0m\n\u001b[1;32m     19\u001b[0m \u001b[0;31m# Display the covariance matrix\u001b[0m\u001b[0;34m\u001b[0m\u001b[0;34m\u001b[0m\u001b[0m\n\u001b[0;32m---> 20\u001b[0;31m \u001b[0;32mimport\u001b[0m \u001b[0mace_tools\u001b[0m \u001b[0;32mas\u001b[0m \u001b[0mtools\u001b[0m\u001b[0;34m;\u001b[0m \u001b[0mtools\u001b[0m\u001b[0;34m.\u001b[0m\u001b[0mdisplay_dataframe_to_user\u001b[0m\u001b[0;34m(\u001b[0m\u001b[0mname\u001b[0m\u001b[0;34m=\u001b[0m\u001b[0;34m\"Covariance Matrix\"\u001b[0m\u001b[0;34m,\u001b[0m \u001b[0mdataframe\u001b[0m\u001b[0;34m=\u001b[0m\u001b[0mcov_matrix_df\u001b[0m\u001b[0;34m)\u001b[0m\u001b[0;34m\u001b[0m\u001b[0;34m\u001b[0m\u001b[0m\n\u001b[0m",
            "\u001b[0;31mModuleNotFoundError\u001b[0m: No module named 'ace_tools'",
            "",
            "\u001b[0;31m---------------------------------------------------------------------------\u001b[0;32m\nNOTE: If your import is failing due to a missing package, you can\nmanually install dependencies using either !pip or !apt.\n\nTo view examples of installing some common dependencies, click the\n\"Open Examples\" button below.\n\u001b[0;31m---------------------------------------------------------------------------\u001b[0m\n"
          ],
          "errorDetails": {
            "actions": [
              {
                "action": "open_url",
                "actionText": "Open Examples",
                "url": "/notebooks/snippets/importing_libraries.ipynb"
              }
            ]
          }
        }
      ]
    },
    {
      "cell_type": "code",
      "source": [
        "import numpy as np\n",
        "import pandas as pd\n",
        "import cvxpy as cp\n",
        "\n",
        "# Step 1: Generate or load asset return data (using random data here for example)\n",
        "np.random.seed(42)\n",
        "n_assets = 5\n",
        "n_obs = 1000\n",
        "\n",
        "# Random returns data (replace this with real returns data)\n",
        "returns = np.random.randn(n_obs, n_assets) * 0.01  # Simulated daily returns\n",
        "\n",
        "# Step 2: Calculate the covariance matrix from the returns data\n",
        "cov_matrix = np.cov(returns, rowvar=False)\n",
        "\n",
        "# Step 3: Define Robust Optimization problem using the calculated covariance matrix\n",
        "expected_returns = np.mean(returns, axis=0)  # Expected returns from the data\n",
        "uncertainty_radius = 0.05  # Robustness parameter\n",
        "\n",
        "# Define optimization variables\n",
        "weights = cp.Variable(n_assets)\n",
        "aux_var = cp.Variable()  # Auxiliary variable for robustness\n",
        "\n",
        "# Objective: Maximize worst-case returns\n",
        "portfolio_return = expected_returns @ weights\n",
        "portfolio_risk = cp.quad_form(weights, cov_matrix)  # Use the calculated covariance matrix\n",
        "\n",
        "# Constraints\n",
        "constraints = [\n",
        "    cp.norm(weights) <= aux_var,  # Auxiliary constraint for robustness\n",
        "    cp.sum(weights) == 1,  # Weights sum to 1\n",
        "    weights >= 0  # No short-selling\n",
        "]\n",
        "\n",
        "# Objective function: maximize the worst-case return, subject to risk penalty\n",
        "risk_aversion = 0.1  # Adjust this to control risk tolerance\n",
        "objective = cp.Maximize(portfolio_return - risk_aversion * portfolio_risk - uncertainty_radius * aux_var)\n",
        "\n",
        "# Define the problem\n",
        "problem = cp.Problem(objective, constraints)\n",
        "\n",
        "# Solve the problem\n",
        "problem.solve()\n",
        "\n",
        "# Display the results\n",
        "print(\"Optimal portfolio weights:\")\n",
        "print(weights.value)\n",
        "\n",
        "# Step 4: Display the covariance matrix\n",
        "cov_matrix_df = pd.DataFrame(cov_matrix, columns=[f'Asset {i+1}' for i in range(n_assets)],\n",
        "                             index=[f'Asset {i+1}' for i in range(n_assets)])\n",
        "\n",
        "import ace_tools as tools; tools.display_dataframe_to_user(name=\"Covariance Matrix\", dataframe=cov_matrix_df)\n"
      ],
      "metadata": {
        "colab": {
          "base_uri": "https://localhost:8080/",
          "height": 378
        },
        "id": "fvOhRh8JDzw_",
        "outputId": "6aee9215-3ae6-402f-debb-5be2d9e0ac10"
      },
      "execution_count": 5,
      "outputs": [
        {
          "output_type": "stream",
          "name": "stdout",
          "text": [
            "Optimal portfolio weights:\n",
            "[0.19961518 0.19796946 0.19990345 0.20008703 0.20242488]\n"
          ]
        },
        {
          "output_type": "error",
          "ename": "ModuleNotFoundError",
          "evalue": "No module named 'ace_tools'",
          "traceback": [
            "\u001b[0;31m---------------------------------------------------------------------------\u001b[0m",
            "\u001b[0;31mModuleNotFoundError\u001b[0m                       Traceback (most recent call last)",
            "\u001b[0;32m<ipython-input-5-950e5189f391>\u001b[0m in \u001b[0;36m<cell line: 53>\u001b[0;34m()\u001b[0m\n\u001b[1;32m     51\u001b[0m                              index=[f'Asset {i+1}' for i in range(n_assets)])\n\u001b[1;32m     52\u001b[0m \u001b[0;34m\u001b[0m\u001b[0m\n\u001b[0;32m---> 53\u001b[0;31m \u001b[0;32mimport\u001b[0m \u001b[0mace_tools\u001b[0m \u001b[0;32mas\u001b[0m \u001b[0mtools\u001b[0m\u001b[0;34m;\u001b[0m \u001b[0mtools\u001b[0m\u001b[0;34m.\u001b[0m\u001b[0mdisplay_dataframe_to_user\u001b[0m\u001b[0;34m(\u001b[0m\u001b[0mname\u001b[0m\u001b[0;34m=\u001b[0m\u001b[0;34m\"Covariance Matrix\"\u001b[0m\u001b[0;34m,\u001b[0m \u001b[0mdataframe\u001b[0m\u001b[0;34m=\u001b[0m\u001b[0mcov_matrix_df\u001b[0m\u001b[0;34m)\u001b[0m\u001b[0;34m\u001b[0m\u001b[0;34m\u001b[0m\u001b[0m\n\u001b[0m",
            "\u001b[0;31mModuleNotFoundError\u001b[0m: No module named 'ace_tools'",
            "",
            "\u001b[0;31m---------------------------------------------------------------------------\u001b[0;32m\nNOTE: If your import is failing due to a missing package, you can\nmanually install dependencies using either !pip or !apt.\n\nTo view examples of installing some common dependencies, click the\n\"Open Examples\" button below.\n\u001b[0;31m---------------------------------------------------------------------------\u001b[0m\n"
          ],
          "errorDetails": {
            "actions": [
              {
                "action": "open_url",
                "actionText": "Open Examples",
                "url": "/notebooks/snippets/importing_libraries.ipynb"
              }
            ]
          }
        }
      ]
    }
  ]
}